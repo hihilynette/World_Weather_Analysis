{
 "cells": [
  {
   "cell_type": "code",
   "execution_count": 61,
   "id": "b1dbd376",
   "metadata": {},
   "outputs": [],
   "source": [
    "import random"
   ]
  },
  {
   "cell_type": "code",
   "execution_count": 62,
   "id": "dc793cc3",
   "metadata": {},
   "outputs": [
    {
     "data": {
      "text/plain": [
       "0.002885456088542293"
      ]
     },
     "execution_count": 62,
     "metadata": {},
     "output_type": "execute_result"
    }
   ],
   "source": [
    "random.random()"
   ]
  },
  {
   "cell_type": "code",
   "execution_count": 63,
   "id": "048f842d",
   "metadata": {},
   "outputs": [
    {
     "data": {
      "text/plain": [
       "5"
      ]
     },
     "execution_count": 63,
     "metadata": {},
     "output_type": "execute_result"
    }
   ],
   "source": [
    "random.randrange(-9,9,2)"
   ]
  },
  {
   "cell_type": "code",
   "execution_count": 64,
   "id": "9675d4b6",
   "metadata": {},
   "outputs": [
    {
     "data": {
      "text/plain": [
       "78"
      ]
     },
     "execution_count": 64,
     "metadata": {},
     "output_type": "execute_result"
    }
   ],
   "source": [
    "random.randint(-90, 90)"
   ]
  },
  {
   "cell_type": "code",
   "execution_count": 65,
   "id": "99043007",
   "metadata": {},
   "outputs": [
    {
     "data": {
      "text/plain": [
       "90.56224969743724"
      ]
     },
     "execution_count": 65,
     "metadata": {},
     "output_type": "execute_result"
    }
   ],
   "source": [
    "random_number = random.randint(-90, 90) + random.random()\n",
    "random_number"
   ]
  },
  {
   "cell_type": "code",
   "execution_count": 66,
   "id": "713515a2",
   "metadata": {},
   "outputs": [
    {
     "data": {
      "text/plain": [
       "[-67.33786868650087,\n",
       " 32.76522266172773,\n",
       " 69.06179145256112,\n",
       " -43.86533029820948,\n",
       " -53.101608776431746,\n",
       " 27.062511241858797,\n",
       " 49.477992214732936,\n",
       " 21.179827787423083,\n",
       " 77.39389686452678,\n",
       " 40.86419759712907]"
      ]
     },
     "execution_count": 66,
     "metadata": {},
     "output_type": "execute_result"
    }
   ],
   "source": [
    "x = 1\n",
    "latitudes = []\n",
    "while x < 11:\n",
    "    random_lat = random.randint(-90, 89) + random.random()\n",
    "    latitudes.append(random_lat)\n",
    "    x += 1\n",
    "latitudes"
   ]
  },
  {
   "cell_type": "code",
   "execution_count": 67,
   "id": "99ff9de5",
   "metadata": {},
   "outputs": [
    {
     "data": {
      "text/plain": [
       "20"
      ]
     },
     "execution_count": 67,
     "metadata": {},
     "output_type": "execute_result"
    }
   ],
   "source": [
    "random.randrange(-90, 90, step=1)"
   ]
  },
  {
   "cell_type": "code",
   "execution_count": 68,
   "id": "5a0f29a4",
   "metadata": {},
   "outputs": [
    {
     "data": {
      "text/plain": [
       "-12"
      ]
     },
     "execution_count": 68,
     "metadata": {},
     "output_type": "execute_result"
    }
   ],
   "source": [
    "random.randrange(-90, 90, step=3)"
   ]
  },
  {
   "cell_type": "code",
   "execution_count": 69,
   "id": "c0d3a379",
   "metadata": {},
   "outputs": [
    {
     "data": {
      "text/plain": [
       "55.252023369281545"
      ]
     },
     "execution_count": 69,
     "metadata": {},
     "output_type": "execute_result"
    }
   ],
   "source": [
    "random.uniform(-90, 90)"
   ]
  },
  {
   "cell_type": "code",
   "execution_count": 70,
   "id": "bb8d6e0e",
   "metadata": {},
   "outputs": [],
   "source": [
    "# Import the NumPy module.\n",
    "import numpy as np"
   ]
  },
  {
   "cell_type": "code",
   "execution_count": 71,
   "id": "41e32af3",
   "metadata": {},
   "outputs": [
    {
     "data": {
      "text/plain": [
       "77.03589711239414"
      ]
     },
     "execution_count": 71,
     "metadata": {},
     "output_type": "execute_result"
    }
   ],
   "source": [
    "np.random.uniform(-90.000, 90.000)"
   ]
  },
  {
   "cell_type": "code",
   "execution_count": 72,
   "id": "71b32c76",
   "metadata": {},
   "outputs": [
    {
     "data": {
      "text/plain": [
       "array([-15.85627557,  39.90721741,  34.71702666, -36.67258043,\n",
       "        51.29180393, -58.62488355, -58.2483725 , -73.81230241,\n",
       "       -13.71573084, -84.86108179,  22.80924371,   0.28105067,\n",
       "       -75.17876231,  41.83983847,  -5.26164226,   9.40854118,\n",
       "        35.59037372,  65.74369336, -23.84204468,  -4.24149977,\n",
       "       -13.36881612, -61.55237673,  49.81634398, -82.86123509,\n",
       "        85.89945417,  66.99185053, -76.35485874,  80.86511498,\n",
       "       -48.16854545, -22.91879047, -73.48643107, -25.61441956,\n",
       "       -83.1083746 ,  -4.94638287, -85.45704113, -16.76631212,\n",
       "       -72.32093026,  76.88007235, -39.40397099,  12.26468296,\n",
       "         6.63455475,   2.80637903, -77.56608095, -53.38026231,\n",
       "        82.07053117,  -7.15115071, -87.11202782,  55.07808097,\n",
       "       -33.25996804,  41.96752101])"
      ]
     },
     "execution_count": 72,
     "metadata": {},
     "output_type": "execute_result"
    }
   ],
   "source": [
    "np.random.uniform(-90.000, 90.000, size=50)"
   ]
  },
  {
   "cell_type": "code",
   "execution_count": 73,
   "id": "a3119844",
   "metadata": {},
   "outputs": [],
   "source": [
    "# Import timeit.\n",
    "import timeit"
   ]
  },
  {
   "cell_type": "code",
   "execution_count": 77,
   "id": "2f3b8987",
   "metadata": {},
   "outputs": [
    {
     "name": "stdout",
     "output_type": "stream",
     "text": [
      "18.1 µs ± 773 ns per loop (mean ± std. dev. of 7 runs, 10000 loops each)\n"
     ]
    }
   ],
   "source": [
    "%timeit np.random.uniform(-90.000, 90.000, size=1500)"
   ]
  },
  {
   "cell_type": "code",
   "execution_count": 75,
   "id": "b06e18f7",
   "metadata": {},
   "outputs": [],
   "source": [
    "# run the \"while\" loop as a function"
   ]
  },
  {
   "cell_type": "code",
   "execution_count": 78,
   "id": "4a14aaa3",
   "metadata": {},
   "outputs": [
    {
     "name": "stdout",
     "output_type": "stream",
     "text": [
      "2.83 ms ± 151 µs per loop (mean ± std. dev. of 7 runs, 100 loops each)\n"
     ]
    }
   ],
   "source": [
    "def latitudes(size):\n",
    "    \n",
    "    latitudes = []\n",
    "    \n",
    "    x=0\n",
    "    \n",
    "    while x < (size):\n",
    "        \n",
    "        random_lat = random.randint(-90, 90) + random.random()\n",
    "        \n",
    "        latitudes.append(random_lat)\n",
    "        \n",
    "        x += 1\n",
    "        \n",
    "    return latitudes\n",
    "    \n",
    "# Call the function with 1500\n",
    "\n",
    "%timeit latitudes(1500)"
   ]
  },
  {
   "cell_type": "code",
   "execution_count": null,
   "id": "1b945c04",
   "metadata": {},
   "outputs": [],
   "source": []
  }
 ],
 "metadata": {
  "kernelspec": {
   "display_name": "PythonData",
   "language": "python",
   "name": "pythondata"
  },
  "language_info": {
   "codemirror_mode": {
    "name": "ipython",
    "version": 3
   },
   "file_extension": ".py",
   "mimetype": "text/x-python",
   "name": "python",
   "nbconvert_exporter": "python",
   "pygments_lexer": "ipython3",
   "version": "3.7.13"
  }
 },
 "nbformat": 4,
 "nbformat_minor": 5
}
